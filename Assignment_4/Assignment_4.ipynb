{
 "cells": [
  {
   "cell_type": "markdown",
   "id": "70ec1cf6",
   "metadata": {},
   "source": [
    "<div class='alert alert-block alert-warning\n",
    "            ' style=\"font-size: 15pt; font-family: cursive; color: #08415C\"> \n",
    "    <b> <center>Import libraries</center> </b>\n",
    "</div>"
   ]
  },
  {
   "cell_type": "code",
   "execution_count": 1,
   "id": "a9ce64cf",
   "metadata": {},
   "outputs": [],
   "source": [
    "import pandas as pd\n",
    "import numpy as np\n",
    "import seaborn as sns\n",
    "import matplotlib.pyplot as plt"
   ]
  },
  {
   "cell_type": "code",
   "execution_count": 2,
   "id": "6959d15d",
   "metadata": {},
   "outputs": [
    {
     "data": {
      "text/html": [
       "<div>\n",
       "<style scoped>\n",
       "    .dataframe tbody tr th:only-of-type {\n",
       "        vertical-align: middle;\n",
       "    }\n",
       "\n",
       "    .dataframe tbody tr th {\n",
       "        vertical-align: top;\n",
       "    }\n",
       "\n",
       "    .dataframe thead th {\n",
       "        text-align: right;\n",
       "    }\n",
       "</style>\n",
       "<table border=\"1\" class=\"dataframe\">\n",
       "  <thead>\n",
       "    <tr style=\"text-align: right;\">\n",
       "      <th></th>\n",
       "      <th>sepal length</th>\n",
       "      <th>sepal width</th>\n",
       "      <th>petal length</th>\n",
       "      <th>petal width</th>\n",
       "      <th>class</th>\n",
       "    </tr>\n",
       "  </thead>\n",
       "  <tbody>\n",
       "    <tr>\n",
       "      <th>0</th>\n",
       "      <td>5.1</td>\n",
       "      <td>3.5</td>\n",
       "      <td>1.4</td>\n",
       "      <td>0.2</td>\n",
       "      <td>Iris-setosa</td>\n",
       "    </tr>\n",
       "    <tr>\n",
       "      <th>1</th>\n",
       "      <td>4.9</td>\n",
       "      <td>3.0</td>\n",
       "      <td>1.4</td>\n",
       "      <td>0.2</td>\n",
       "      <td>Iris-setosa</td>\n",
       "    </tr>\n",
       "    <tr>\n",
       "      <th>2</th>\n",
       "      <td>4.7</td>\n",
       "      <td>3.2</td>\n",
       "      <td>1.3</td>\n",
       "      <td>0.2</td>\n",
       "      <td>Iris-setosa</td>\n",
       "    </tr>\n",
       "    <tr>\n",
       "      <th>3</th>\n",
       "      <td>4.6</td>\n",
       "      <td>3.1</td>\n",
       "      <td>1.5</td>\n",
       "      <td>0.2</td>\n",
       "      <td>Iris-setosa</td>\n",
       "    </tr>\n",
       "    <tr>\n",
       "      <th>4</th>\n",
       "      <td>5.0</td>\n",
       "      <td>3.6</td>\n",
       "      <td>1.4</td>\n",
       "      <td>0.2</td>\n",
       "      <td>Iris-setosa</td>\n",
       "    </tr>\n",
       "    <tr>\n",
       "      <th>...</th>\n",
       "      <td>...</td>\n",
       "      <td>...</td>\n",
       "      <td>...</td>\n",
       "      <td>...</td>\n",
       "      <td>...</td>\n",
       "    </tr>\n",
       "    <tr>\n",
       "      <th>145</th>\n",
       "      <td>6.7</td>\n",
       "      <td>3.0</td>\n",
       "      <td>5.2</td>\n",
       "      <td>2.3</td>\n",
       "      <td>Iris-virginica</td>\n",
       "    </tr>\n",
       "    <tr>\n",
       "      <th>146</th>\n",
       "      <td>6.3</td>\n",
       "      <td>2.5</td>\n",
       "      <td>5.0</td>\n",
       "      <td>1.9</td>\n",
       "      <td>Iris-virginica</td>\n",
       "    </tr>\n",
       "    <tr>\n",
       "      <th>147</th>\n",
       "      <td>6.5</td>\n",
       "      <td>3.0</td>\n",
       "      <td>5.2</td>\n",
       "      <td>2.0</td>\n",
       "      <td>Iris-virginica</td>\n",
       "    </tr>\n",
       "    <tr>\n",
       "      <th>148</th>\n",
       "      <td>6.2</td>\n",
       "      <td>3.4</td>\n",
       "      <td>5.4</td>\n",
       "      <td>2.3</td>\n",
       "      <td>Iris-virginica</td>\n",
       "    </tr>\n",
       "    <tr>\n",
       "      <th>149</th>\n",
       "      <td>5.9</td>\n",
       "      <td>3.0</td>\n",
       "      <td>5.1</td>\n",
       "      <td>1.8</td>\n",
       "      <td>Iris-virginica</td>\n",
       "    </tr>\n",
       "  </tbody>\n",
       "</table>\n",
       "<p>150 rows × 5 columns</p>\n",
       "</div>"
      ],
      "text/plain": [
       "     sepal length  sepal width  petal length  petal width           class\n",
       "0             5.1          3.5           1.4          0.2     Iris-setosa\n",
       "1             4.9          3.0           1.4          0.2     Iris-setosa\n",
       "2             4.7          3.2           1.3          0.2     Iris-setosa\n",
       "3             4.6          3.1           1.5          0.2     Iris-setosa\n",
       "4             5.0          3.6           1.4          0.2     Iris-setosa\n",
       "..            ...          ...           ...          ...             ...\n",
       "145           6.7          3.0           5.2          2.3  Iris-virginica\n",
       "146           6.3          2.5           5.0          1.9  Iris-virginica\n",
       "147           6.5          3.0           5.2          2.0  Iris-virginica\n",
       "148           6.2          3.4           5.4          2.3  Iris-virginica\n",
       "149           5.9          3.0           5.1          1.8  Iris-virginica\n",
       "\n",
       "[150 rows x 5 columns]"
      ]
     },
     "execution_count": 2,
     "metadata": {},
     "output_type": "execute_result"
    }
   ],
   "source": [
    "df = pd.read_csv('iris.data')\n",
    "df"
   ]
  },
  {
   "cell_type": "code",
   "execution_count": 3,
   "id": "35d71fa0",
   "metadata": {},
   "outputs": [
    {
     "data": {
      "text/plain": [
       "\"df.rename(columns={'Iris-setosa': 'class', '5.1': 'sepal length',\\n                     '3.5': 'sepal width', '1.4': 'petal length', \\n                     '0.2': 'petal width'}, inplace=True)\\ndf\""
      ]
     },
     "execution_count": 3,
     "metadata": {},
     "output_type": "execute_result"
    }
   ],
   "source": [
    "'''df.rename(columns={'Iris-setosa': 'class', '5.1': 'sepal length',\n",
    "                     '3.5': 'sepal width', '1.4': 'petal length', \n",
    "                     '0.2': 'petal width'}, inplace=True)\n",
    "df'''"
   ]
  },
  {
   "cell_type": "code",
   "execution_count": 4,
   "id": "5b4155bf",
   "metadata": {},
   "outputs": [],
   "source": [
    "# df.set_index('class', inplace=True)\n",
    "# df"
   ]
  },
  {
   "cell_type": "code",
   "execution_count": 5,
   "id": "f444b29b",
   "metadata": {},
   "outputs": [
    {
     "name": "stdout",
     "output_type": "stream",
     "text": [
      "<class 'pandas.core.frame.DataFrame'>\n",
      "RangeIndex: 150 entries, 0 to 149\n",
      "Data columns (total 5 columns):\n",
      " #   Column        Non-Null Count  Dtype  \n",
      "---  ------        --------------  -----  \n",
      " 0   sepal length  150 non-null    float64\n",
      " 1   sepal width   150 non-null    float64\n",
      " 2   petal length  150 non-null    float64\n",
      " 3   petal width   150 non-null    float64\n",
      " 4   class         150 non-null    object \n",
      "dtypes: float64(4), object(1)\n",
      "memory usage: 6.0+ KB\n"
     ]
    }
   ],
   "source": [
    "df.info()"
   ]
  },
  {
   "cell_type": "code",
   "execution_count": 6,
   "id": "52227d5f",
   "metadata": {},
   "outputs": [
    {
     "data": {
      "text/plain": [
       "count    150.000000\n",
       "mean       5.843333\n",
       "std        0.828066\n",
       "min        4.300000\n",
       "25%        5.100000\n",
       "50%        5.800000\n",
       "75%        6.400000\n",
       "max        7.900000\n",
       "Name: sepal length, dtype: float64"
      ]
     },
     "execution_count": 6,
     "metadata": {},
     "output_type": "execute_result"
    }
   ],
   "source": [
    "df['sepal length'].describe()"
   ]
  },
  {
   "cell_type": "markdown",
   "id": "fdada810",
   "metadata": {},
   "source": [
    "<div class='alert alert-block alert-warning\n",
    "            ' style=\"font-size: 15pt; font-family: cursive; color: #08415C\"> \n",
    "    <b> <center>Calculate the variance and standard deviation of sepal length for each class </center> </b>\n",
    "</div>"
   ]
  },
  {
   "cell_type": "code",
   "execution_count": 7,
   "id": "03a5831e",
   "metadata": {},
   "outputs": [
    {
     "data": {
      "text/html": [
       "<div>\n",
       "<style scoped>\n",
       "    .dataframe tbody tr th:only-of-type {\n",
       "        vertical-align: middle;\n",
       "    }\n",
       "\n",
       "    .dataframe tbody tr th {\n",
       "        vertical-align: top;\n",
       "    }\n",
       "\n",
       "    .dataframe thead tr th {\n",
       "        text-align: left;\n",
       "    }\n",
       "\n",
       "    .dataframe thead tr:last-of-type th {\n",
       "        text-align: right;\n",
       "    }\n",
       "</style>\n",
       "<table border=\"1\" class=\"dataframe\">\n",
       "  <thead>\n",
       "    <tr>\n",
       "      <th></th>\n",
       "      <th colspan=\"5\" halign=\"left\">sepal length</th>\n",
       "    </tr>\n",
       "    <tr>\n",
       "      <th></th>\n",
       "      <th>min</th>\n",
       "      <th>max</th>\n",
       "      <th>mean</th>\n",
       "      <th>std</th>\n",
       "      <th>var</th>\n",
       "    </tr>\n",
       "    <tr>\n",
       "      <th>class</th>\n",
       "      <th></th>\n",
       "      <th></th>\n",
       "      <th></th>\n",
       "      <th></th>\n",
       "      <th></th>\n",
       "    </tr>\n",
       "  </thead>\n",
       "  <tbody>\n",
       "    <tr>\n",
       "      <th>Iris-setosa</th>\n",
       "      <td>4.3</td>\n",
       "      <td>5.8</td>\n",
       "      <td>5.006</td>\n",
       "      <td>0.352490</td>\n",
       "      <td>0.124249</td>\n",
       "    </tr>\n",
       "    <tr>\n",
       "      <th>Iris-versicolor</th>\n",
       "      <td>4.9</td>\n",
       "      <td>7.0</td>\n",
       "      <td>5.936</td>\n",
       "      <td>0.516171</td>\n",
       "      <td>0.266433</td>\n",
       "    </tr>\n",
       "    <tr>\n",
       "      <th>Iris-virginica</th>\n",
       "      <td>4.9</td>\n",
       "      <td>7.9</td>\n",
       "      <td>6.588</td>\n",
       "      <td>0.635880</td>\n",
       "      <td>0.404343</td>\n",
       "    </tr>\n",
       "  </tbody>\n",
       "</table>\n",
       "</div>"
      ],
      "text/plain": [
       "                sepal length                                \n",
       "                         min  max   mean       std       var\n",
       "class                                                       \n",
       "Iris-setosa              4.3  5.8  5.006  0.352490  0.124249\n",
       "Iris-versicolor          4.9  7.0  5.936  0.516171  0.266433\n",
       "Iris-virginica           4.9  7.9  6.588  0.635880  0.404343"
      ]
     },
     "execution_count": 7,
     "metadata": {},
     "output_type": "execute_result"
    }
   ],
   "source": [
    "df.groupby('class').agg({'sepal length': ['min', 'max', 'mean', 'std', 'var']})"
   ]
  },
  {
   "cell_type": "code",
   "execution_count": 8,
   "id": "8525b339",
   "metadata": {},
   "outputs": [
    {
     "name": "stdout",
     "output_type": "stream",
     "text": [
      "Variance by class:\n",
      "class\n",
      "Iris-setosa        0.124249\n",
      "Iris-versicolor    0.266433\n",
      "Iris-virginica     0.404343\n",
      "Name: sepal length, dtype: float64\n",
      "\n",
      "Standard Deviation by class:\n",
      "class\n",
      "Iris-setosa        0.352490\n",
      "Iris-versicolor    0.516171\n",
      "Iris-virginica     0.635880\n",
      "Name: sepal length, dtype: float64\n"
     ]
    }
   ],
   "source": [
    "variance_by_class = df.groupby('class')['sepal length'].var()\n",
    "std_dev_by_class = df.groupby('class')['sepal length'].std()\n",
    "\n",
    "print(\"Variance by class:\")\n",
    "print(variance_by_class)\n",
    "\n",
    "print(\"\\nStandard Deviation by class:\")\n",
    "print(std_dev_by_class)"
   ]
  },
  {
   "cell_type": "markdown",
   "id": "377fd64a",
   "metadata": {},
   "source": [
    "Чем больше значение дисперсии или стандартного отклонения, тем больше изменчивость данных. Следовательно, по предоставленным данным, можно сказать, что изменчивость длины чашелистника различается между классами. В частности, Iris-virginica имеет более высокую изменчивость по сравнению с Iris-setosa, и Iris-versicolor находится примерно посередине.\n",
    "\n",
    "Для оценки статистической значимости этих различий можно использовать статистические тесты, такие как анализ дисперсии (ANOVA) или другие методы, в зависимости от распределения данных и конкретных условий."
   ]
  },
  {
   "cell_type": "markdown",
   "id": "d6091970",
   "metadata": {},
   "source": [
    "<div class='alert alert-block alert-warning\n",
    "            ' style=\"font-size: 15pt; font-family: cursive; color: #08415C\"> \n",
    "    <b> <center>Determine the probability distribution of petal width for Iris Setosa</center> </b>\n",
    "</div>"
   ]
  },
  {
   "cell_type": "markdown",
   "id": "311fe793",
   "metadata": {},
   "source": [
    "<div style=\"font-size: 13pt; font-family: verdana; color: #08415C\"> \n",
    "    <h4>Determine the probability distribution of petal width for Iris Setosa. Is it a normal distribution, and if not, what kind of distribution does it resemble?</h4>\n",
    "</div>"
   ]
  },
  {
   "cell_type": "code",
   "execution_count": 9,
   "id": "cdcefcd6",
   "metadata": {},
   "outputs": [],
   "source": [
    "setosa = df[df['class'] == 'Iris-setosa']"
   ]
  },
  {
   "cell_type": "code",
   "execution_count": 10,
   "id": "3e7b6ee1",
   "metadata": {},
   "outputs": [
    {
     "data": {
      "image/png": "[encoded data removed]",
      "text/plain": [
       "<Figure size 640x480 with 1 Axes>"
      ]
     },
     "metadata": {},
     "output_type": "display_data"
    }
   ],
   "source": [
    "plt.hist(setosa['petal width'], bins=10, color='blue', edgecolor='black')\n",
    "\n",
    "plt.title('Histogram of Petal Width')\n",
    "plt.xlabel('Petal Width')\n",
    "plt.ylabel('Frequency')\n",
    "plt.show()"
   ]
  },
  {
   "cell_type": "code",
   "execution_count": 11,
   "id": "1be8e9bb",
   "metadata": {},
   "outputs": [
    {
     "data": {
      "text/plain": [
       "count    150.000000\n",
       "mean       1.198667\n",
       "std        0.763161\n",
       "min        0.100000\n",
       "25%        0.300000\n",
       "50%        1.300000\n",
       "75%        1.800000\n",
       "max        2.500000\n",
       "Name: petal width, dtype: float64"
      ]
     },
     "execution_count": 11,
     "metadata": {},
     "output_type": "execute_result"
    }
   ],
   "source": [
    "df['petal width'].describe()"
   ]
  },
  {
   "cell_type": "markdown",
   "id": "45e68f0b",
   "metadata": {},
   "source": [
    "График QQ (график квантиль-квантиль) — это графический инструмент, используемый для оценки того, соответствует ли набор данных определенному теоретическому распределению, например нормальному распределению. На графике QQ квантили наблюдаемых данных отображаются в сравнении с квантилями ожидаемого распределения. Если точки на графике располагаются примерно по прямой линии, это говорит о том, что данные соответствуют выбранному теоретическому распределению.\n",
    "\n",
    "Вот как интерпретировать график QQ:\n",
    "\n",
    "Прямая линия : если точки на графике образуют прямую линию, это указывает на то, что данные точно соответствуют теоретическому распределению (например, нормальному распределению).\n",
    "\n",
    "Отклонение от линии : Отклонения от прямой линии предполагают отклонения от предполагаемого распределения. Если точки постоянно отклоняются от линии, это указывает на то, что данные не могут быть хорошо смоделированы выбранным распределением.\n",
    "\n",
    "Теперь давайте соотнесем это с графиком QQ, который вы создали для ширины лепестка Iris Setosa:\n",
    "\n",
    "Проверка прямой линии : посмотрите на график QQ. Если точки точно следуют прямой линии, это говорит о том, что данные о ширине лепестков Iris Setosa могут быть примерно нормально распределены.\n",
    "\n",
    "Отклонение от линии : если есть существенные отклонения, особенно если точки изгибаются или демонстрируют систематические закономерности вдали от линии, это может указывать на то, что распределение не совсем соответствует нормальному образцу.\n",
    "\n",
    "Рассмотрим визуальный аспект. Если график выглядит близко к прямой линии, вы можете сделать вывод, что данные распределены примерно нормально. Однако при небольшом размере выборки визуальный осмотр может оказаться не окончательным, а статистические тесты могут иметь ограничения.\n",
    "\n",
    "В вашем конкретном случае, имея всего 5 точек данных, сложно сделать однозначные выводы. Если график QQ показывает достаточно прямую линию, вы можете предварительно предположить нормальность. Для более строгого анализа можно рассмотреть возможность увеличения размера выборки и дополнительных статистических тестов."
   ]
  },
  {
   "cell_type": "code",
   "execution_count": 12,
   "id": "a2c42648",
   "metadata": {},
   "outputs": [
    {
     "name": "stdout",
     "output_type": "stream",
     "text": [
      "Index(['sepal length', 'sepal width', 'petal length', 'petal width', 'class'], dtype='object')\n"
     ]
    },
    {
     "data": {
      "image/png": "[encoded data removed]",
      "text/plain": [
       "<Figure size 640x480 with 1 Axes>"
      ]
     },
     "metadata": {},
     "output_type": "display_data"
    }
   ],
   "source": [
    "from scipy.stats import probplot\n",
    "# Convert 'petal width' to numeric\n",
    "df['petal width'] = pd.to_numeric(df['petal width'], errors='coerce')\n",
    "\n",
    "# Check available columns\n",
    "print(df.columns)\n",
    "\n",
    "# Plot Q-Q plot for 'petal width'\n",
    "probplot(setosa['petal width'], dist=\"norm\", plot=plt)\n",
    "plt.title('Q-Q Plot of Petal Width')\n",
    "plt.show()"
   ]
  },
  {
   "cell_type": "code",
   "execution_count": 13,
   "id": "0cc0ecf7",
   "metadata": {},
   "outputs": [
    {
     "name": "stdout",
     "output_type": "stream",
     "text": [
      "Shapiro-Wilk Statistic: 0.8138164281845093\n",
      "P-value: 1.8525122413848294e-06\n",
      "The data does not appear to be normally distributed (reject H0)\n"
     ]
    }
   ],
   "source": [
    "from scipy.stats import shapiro\n",
    "\n",
    "data = setosa['petal width']\n",
    "\n",
    "# Perform Shapiro-Wilk test\n",
    "statistic, p_value = shapiro(data)\n",
    "\n",
    "print(f\"Shapiro-Wilk Statistic: {statistic}\")\n",
    "print(f\"P-value: {p_value}\")\n",
    "\n",
    "# Interpret the results\n",
    "alpha = 0.05\n",
    "if p_value > alpha:\n",
    "    print(\"The data appears to be normally distributed (fail to reject H0)\")\n",
    "else:\n",
    "    print(\"The data does not appear to be normally distributed (reject H0)\")"
   ]
  },
  {
   "cell_type": "code",
   "execution_count": 14,
   "id": "eacad8e0",
   "metadata": {},
   "outputs": [
    {
     "name": "stdout",
     "output_type": "stream",
     "text": [
      "Anderson-Darling Statistic: 4.307007548538962\n",
      "Critical Values: [0.538 0.613 0.736 0.858 1.021]\n",
      "Significance Levels: [15.  10.   5.   2.5  1. ]\n",
      "The data does not appear to be normally distributed (reject H0)\n"
     ]
    }
   ],
   "source": [
    "from scipy.stats import anderson\n",
    "\n",
    "data = setosa['petal width']\n",
    "\n",
    "# Perform Anderson-Darling test.\n",
    "result = anderson(data)\n",
    "\n",
    "print(f\"Anderson-Darling Statistic: {result.statistic}\")\n",
    "print(f\"Critical Values: {result.critical_values}\")\n",
    "print(f\"Significance Levels: {result.significance_level}\")\n",
    "\n",
    "# Interpret the results\n",
    "alpha = 0.05\n",
    "if result.statistic < result.critical_values[2]:\n",
    "    print(\"The data appears to be normally distributed (fail to reject H0)\")\n",
    "else:\n",
    "    print(\"The data does not appear to be normally distributed (reject H0)\")"
   ]
  },
  {
   "cell_type": "markdown",
   "id": "bb144f24",
   "metadata": {},
   "source": [
    "<div class='alert alert-block alert-warning\n",
    "            ' style=\"font-size: 15pt; font-family: cursive; color: #08415C\"> \n",
    "    <b> <center>Compute the mode of sepal width for the entire dataset. Does this dataset exhibit a clear mode for sepal width, or is it multimodal?\n",
    "</center> </b>\n",
    "</div>"
   ]
  },
  {
   "cell_type": "code",
   "execution_count": 15,
   "id": "172996e1",
   "metadata": {},
   "outputs": [
    {
     "name": "stdout",
     "output_type": "stream",
     "text": [
      "Mode of sepal width: 3.0\n"
     ]
    }
   ],
   "source": [
    "import pandas as pd\n",
    "from statistics import mode\n",
    "\n",
    "# Extracting sepal width values\n",
    "sepal_width_values = df['sepal width']\n",
    "\n",
    "# Compute the mode\n",
    "sepal_width_mode = mode(sepal_width_values)\n",
    "\n",
    "print(\"Mode of sepal width:\", sepal_width_mode)"
   ]
  },
  {
   "cell_type": "markdown",
   "id": "e77e7f9d",
   "metadata": {},
   "source": [
    "Now, regarding whether the dataset exhibits a clear mode for sepal width or is multimodal, you might want to visualize the distribution of sepal width values using a histogram or kernel density plot. This will help you see if there is a single peak (unimodal) or multiple peaks (multimodal) in the distribution. If there is more than one clear peak, the dataset is considered multimodal.\n",
    "\n",
    "Теперь, что касается того, показывает ли набор данных четкий режим для ширины чашелистиков или является мультимодальным, возможно, вы захотите визуализировать распределение значений ширины чашелистиков с помощью гистограммы или графика плотности ядра. Это поможет вам увидеть, есть ли в распределении один пик (одномодальный) или несколько пиков (мультимодальный). Если имеется более одного четкого пика, набор данных считается мультимодальным."
   ]
  },
  {
   "cell_type": "code",
   "execution_count": 16,
   "id": "b69ae3ed",
   "metadata": {},
   "outputs": [
    {
     "data": {
      "image/png": "[encoded data removed]",
      "text/plain": [
       "<Figure size 640x480 with 1 Axes>"
      ]
     },
     "metadata": {},
     "output_type": "display_data"
    }
   ],
   "source": [
    "import matplotlib.pyplot as plt\n",
    "\n",
    "sepal_width_values = df['sepal width']\n",
    "\n",
    "plt.hist(sepal_width_values, bins=10, color='skyblue', edgecolor='black')\n",
    "\n",
    "plt.xlabel('Sepal Width')\n",
    "plt.ylabel('Frequency')\n",
    "plt.title('Histogram of Sepal Width in Iris Dataset')\n",
    "plt.show()\n",
    "# single peak (unimodal)"
   ]
  },
  {
   "cell_type": "code",
   "execution_count": 17,
   "id": "a2ea9787",
   "metadata": {},
   "outputs": [
    {
     "data": {
      "image/png": "[encoded data removed]",
      "text/plain": [
       "<Figure size 640x480 with 1 Axes>"
      ]
     },
     "metadata": {},
     "output_type": "display_data"
    }
   ],
   "source": [
    "sepal_width_values = df['sepal width']\n",
    "\n",
    "# Create a kernel density plot\n",
    "sns.kdeplot(sepal_width_values, fill=True, color='skyblue')\n",
    "\n",
    "\n",
    "plt.xlabel('Sepal Width')\n",
    "plt.ylabel('Density')\n",
    "plt.title('Kernel Density Plot of Sepal Width in Iris Dataset')\n",
    "plt.show()\n",
    "# single peak (unimodal)"
   ]
  },
  {
   "cell_type": "markdown",
   "id": "d2da4355",
   "metadata": {},
   "source": [
    "<div class='alert alert-block alert-warning\n",
    "            ' style=\"font-size: 15pt; font-family: cursive; color: #08415C\"> \n",
    "    <b> <center>Calculate the mean and standard deviation of petal length for Iris Virginica.\n",
    "</center> </b>\n",
    "</div>"
   ]
  },
  {
   "cell_type": "markdown",
   "id": "91f6c103",
   "metadata": {},
   "source": [
    "<div style=\"font-size: 13pt; font-family: verdana; color: #08415C\"> \n",
    "    <h4>How does the mean and standard deviation compare to the same attributes in Iris Setosa and Iris Versicolour?\n",
    "</h4>\n",
    "</div>"
   ]
  },
  {
   "cell_type": "code",
   "execution_count": 18,
   "id": "06ea3daf",
   "metadata": {},
   "outputs": [
    {
     "name": "stdout",
     "output_type": "stream",
     "text": [
      "Mean by class:\n",
      "class\n",
      "Iris-setosa        1.464\n",
      "Iris-versicolor    4.260\n",
      "Iris-virginica     5.552\n",
      "Name: petal length, dtype: float64\n",
      "\n",
      "Standard Deviation by class:\n",
      "class\n",
      "Iris-setosa        0.173511\n",
      "Iris-versicolor    0.469911\n",
      "Iris-virginica     0.551895\n",
      "Name: petal length, dtype: float64\n"
     ]
    }
   ],
   "source": [
    "mean_by_class = df.groupby('class')['petal length'].mean()\n",
    "st_dev_by_class = df.groupby('class')['petal length'].std()\n",
    "\n",
    "print(\"Mean by class:\")\n",
    "print(mean_by_class)\n",
    "\n",
    "print(\"\\nStandard Deviation by class:\")\n",
    "print(st_dev_by_class)"
   ]
  },
  {
   "cell_type": "markdown",
   "id": "8b285e51",
   "metadata": {},
   "source": [
    "Mean Comparison:\n",
    "\n",
    "Iris Virginica has the highest mean petal length among the three classes.\n",
    "Iris Setosa has the smallest mean petal length.\n",
    "\n",
    "Standard Deviation Comparison:\n",
    "\n",
    "Iris Virginica has the highest standard deviation, indicating a greater spread or variability in petal length compared to the other classes.\n",
    "Iris Setosa has the smallest standard deviation, suggesting less variability in petal length compared to the other classes.\n",
    "\n",
    "In summary, Iris Virginica tends to have both a higher mean and a higher standard deviation in petal length compared to Iris Setosa and Iris Versicolor. Iris Setosa generally has the smallest mean and standard deviation in petal length, indicating a more concentrated and uniform distribution of petal lengths in this class. Iris Versicolor falls in between with moderate mean and standard deviation values."
   ]
  },
  {
   "cell_type": "markdown",
   "id": "c8fb853e",
   "metadata": {},
   "source": [
    "Сравнение средних значений:\n",
    "\n",
    "Iris Virginica имеет самую высокую среднюю длину лепестков среди трех сортов.\n",
    "Iris Setosa имеет наименьшую среднюю длину лепестков.\n",
    "\n",
    "Сравнение стандартных отклонений:\n",
    "\n",
    "Iris Virginica имеет самое высокое стандартное отклонение, что указывает на больший разброс или изменчивость длины лепестков по сравнению с другими сортами.\n",
    "Iris Setosa имеет наименьшее стандартное отклонение, что свидетельствует о меньшей вариабельности длины лепестков по сравнению с другими сортами.\n",
    "\n",
    "Таким образом, Iris Virginica имеет тенденцию иметь как более высокое среднее значение, так и более высокое стандартное отклонение длины лепестков по сравнению с Iris Setosa и Iris Versicolor. Iris Setosa, как правило, имеет наименьшее среднее значение и стандартное отклонение длины лепестков, что указывает на более концентрированное и равномерное распределение длин лепестков в этом сорте. Iris Versicolor находится между ними с умеренными значениями среднего значения и стандартного отклонения."
   ]
  },
  {
   "cell_type": "markdown",
   "id": "b9347b6b",
   "metadata": {},
   "source": [
    "<div class='alert alert-block alert-warning\n",
    "            ' style=\"font-size: 15pt; font-family: cursive; color: #08415C\"> \n",
    "    <b> <center>Investigate the median of sepal length for Iris Setosa. How does the median compare to the mean in this case, and what does it suggest about the distribution of sepal length in this class?\n",
    "</center> </b>\n",
    "</div>"
   ]
  },
  {
   "cell_type": "code",
   "execution_count": 19,
   "id": "0e35e519",
   "metadata": {},
   "outputs": [
    {
     "name": "stdout",
     "output_type": "stream",
     "text": [
      "Iris Setosa - Mean Sepal Length: 5.01\n",
      "Iris Setosa - Median Sepal Length: 5.00\n"
     ]
    }
   ],
   "source": [
    "setosa_mean = df[df['class'] == 'Iris-setosa']['sepal length'].mean()\n",
    "setosa_median = df[df['class'] == 'Iris-setosa']['sepal length'].median()\n",
    "\n",
    "print(f\"Iris Setosa - Mean Sepal Length: {setosa_mean:.2f}\")\n",
    "print(f\"Iris Setosa - Median Sepal Length: {setosa_median:.2f}\")"
   ]
  },
  {
   "cell_type": "markdown",
   "id": "03a2cd74",
   "metadata": {},
   "source": [
    "The mean and median are very close, indicating that the distribution of sepal length in Iris Setosa is likely symmetric or close to symmetric. When the mean and median are approximately equal, it suggests that the data is centered, and the distribution is not highly skewed."
   ]
  },
  {
   "cell_type": "markdown",
   "id": "55c509c3",
   "metadata": {},
   "source": [
    "Среднее значение и медиана очень близки, что указывает на то, что распределение длины чашелистиков у Iris Setosa, вероятно, симметрично или близко к симметричному. Когда среднее значение и медиана приблизительно равны, это говорит о том, что данные центрированы и распределение не сильно искажено."
   ]
  },
  {
   "cell_type": "markdown",
   "id": "7cff3e87",
   "metadata": {},
   "source": [
    "<div class='alert alert-block alert-warning\n",
    "            ' style=\"font-size: 15pt; font-family: cursive; color: #08415C\"> \n",
    "    <b> <center>Determine the interquartile range (IQR) of petal width for each class. Are there any significant differences in the spread of petal width among the three classes?\n",
    "</center> </b>\n",
    "</div>"
   ]
  },
  {
   "cell_type": "code",
   "execution_count": 20,
   "id": "7e5e9f0e",
   "metadata": {},
   "outputs": [
    {
     "name": "stdout",
     "output_type": "stream",
     "text": [
      "IQR of Petal Width for Iris Setosa: 0.10\n",
      "IQR of Petal Width for Iris Versicolor: 0.30\n",
      "IQR of Petal Width for Iris Virginica: 0.50\n"
     ]
    }
   ],
   "source": [
    "setosa = df[df['class'] == 'Iris-setosa']['petal width']\n",
    "versicolor = df[df['class'] == 'Iris-versicolor']['petal width']\n",
    "virginica = df[df['class'] == 'Iris-virginica']['petal width']\n",
    "\n",
    "setosa_iqr = setosa.quantile(0.75) - setosa.quantile(0.25)\n",
    "versicolor_iqr = versicolor.quantile(0.75) - versicolor.quantile(0.25)\n",
    "virginica_iqr = virginica.quantile(0.75) - virginica.quantile(0.25)\n",
    "\n",
    "print(f\"IQR of Petal Width for Iris Setosa: {setosa_iqr:.2f}\")\n",
    "print(f\"IQR of Petal Width for Iris Versicolor: {versicolor_iqr:.2f}\")\n",
    "print(f\"IQR of Petal Width for Iris Virginica: {virginica_iqr:.2f}\")"
   ]
  },
  {
   "cell_type": "markdown",
   "id": "db2a7e3b",
   "metadata": {},
   "source": [
    "The increasing order of IQRs (Iris Setosa < Iris Versicolor < Iris Virginica) indicates an increase in the spread or variability of petal width from Iris Setosa to Iris Virginica. Therefore, there are significant differences in the spread of petal width among the three classes, with Iris Virginica having the widest spread, followed by Iris Versicolor and Iris Setosa with the smallest spread."
   ]
  },
  {
   "cell_type": "markdown",
   "id": "74a7b0f3",
   "metadata": {},
   "source": [
    "Возрастающий порядок расположения ирисов (Iris Setosa < Iris Versicolor < Iris Virginica) указывает на увеличение разброса или изменчивости ширины лепестков от Iris Setosa к Iris Virginica. Таким образом, существуют значительные различия в распределении ширины лепестков между тремя классами, причем Iris Virginica имеет самое широкое распространение, за ним следуют Iris Versicolor и Iris Setosa с наименьшим распространением."
   ]
  },
  {
   "cell_type": "markdown",
   "id": "054cd31a",
   "metadata": {},
   "source": [
    "<div class='alert alert-block alert-warning\n",
    "            ' style=\"font-size: 15pt; font-family: cursive; color: #08415C\"> \n",
    "    <b> <center>Calculate the mean and standard deviation of sepal length for all instances where sepal width is less than 3 cm. How does this subset of data differ from the dataset as a whole in terms of sepal length?\n",
    "</center> </b>\n",
    "</div>"
   ]
  },
  {
   "cell_type": "code",
   "execution_count": 21,
   "id": "ddbdf216",
   "metadata": {},
   "outputs": [
    {
     "name": "stdout",
     "output_type": "stream",
     "text": [
      "Subset data\n",
      "Subset Mean Sepal Length: 5.95\n",
      "Subset Standard Deviation of Sepal Length: 0.68\n",
      "\n",
      "Whole data\n",
      "Overall Mean Sepal Length: 5.84\n",
      "Overall Standard Deviation of Sepal Length: 0.83\n"
     ]
    }
   ],
   "source": [
    "subset_data = df[df['sepal width'] < 3]\n",
    "\n",
    "overall_mean = df['sepal length'].mean()\n",
    "overall_std = df['sepal length'].std()\n",
    "\n",
    "subset_mean = subset_data['sepal length'].mean()\n",
    "subset_std = subset_data['sepal length'].std()\n",
    "print('Subset data')\n",
    "print(f\"Subset Mean Sepal Length: {subset_mean:.2f}\")\n",
    "print(f\"Subset Standard Deviation of Sepal Length: {subset_std:.2f}\")\n",
    "print('\\nWhole data')\n",
    "print(f\"Overall Mean Sepal Length: {overall_mean:.2f}\")\n",
    "print(f\"Overall Standard Deviation of Sepal Length: {overall_std:.2f}\")"
   ]
  },
  {
   "cell_type": "markdown",
   "id": "fd89fdf6",
   "metadata": {},
   "source": [
    "Подмножество данных, где ширина чашелистика составляет менее 3 см, имеет более высокую среднюю длину чашелистика и меньшее стандартное отклонение по сравнению с набором данных в целом. Это говорит о том, что в среднем длина чашелистиков имеет тенденцию быть немного больше в тех случаях, когда ширина чашелистиков составляет менее 3 см. Кроме того, значения длины чашелистиков в этом подмножестве менее изменчивы или распределены вокруг среднего значения по сравнению со всем набором данных.\n",
    "\n",
    "Важно отметить, что эти различия могут быть незначительными, и интерпретация может варьироваться в зависимости от контекста и характера набора данных."
   ]
  },
  {
   "cell_type": "markdown",
   "id": "55051e33",
   "metadata": {},
   "source": [
    "The subset of data, where sepal width is less than 3 cm, has a higher mean sepal length and a smaller standard deviation compared to the dataset as a whole. This suggests that, on average, the sepal length tends to be slightly longer in instances where sepal width is less than 3 cm. Additionally, the sepal length values in this subset are less variable or dispersed around the mean compared to the entire dataset.\n",
    "\n",
    "It's important to note that these differences might be subtle, and the interpretation may vary based on the context and the nature of the dataset."
   ]
  },
  {
   "cell_type": "markdown",
   "id": "c10320b7",
   "metadata": {},
   "source": [
    "<div class='alert alert-block alert-warning\n",
    "            ' style=\"font-size: 15pt; font-family: cursive; color: #08415C\"> \n",
    "    <b> <center>Compute the probability that a randomly selected flower from the dataset belongs to the class Iris Versicolour based on the sepal width being between 2.5 cm and 3.0 cm.\n",
    "</center> </b>\n",
    "</div>"
   ]
  },
  {
   "cell_type": "code",
   "execution_count": 22,
   "id": "83b0a354",
   "metadata": {},
   "outputs": [
    {
     "name": "stdout",
     "output_type": "stream",
     "text": [
      "Probability of a randomly selected flower belonging to Iris Versicolour (sepal width between 2.5 cm and 3.0 cm): 0.46\n"
     ]
    }
   ],
   "source": [
    "total_flowers_in_range = df[(df['sepal width'] >= 2.5) & (df['sepal width'] <= 3.0)].shape[0]\n",
    "\n",
    "versicolour_flowers_in_range = df[(df['sepal width'] >= 2.5) & (df['sepal width'] <= 3.0) & (df['class'] == 'Iris-versicolor')].shape[0]\n",
    "\n",
    "probability_versicolour = versicolour_flowers_in_range / total_flowers_in_range\n",
    "\n",
    "print(f\"Probability of a randomly selected flower belonging to Iris Versicolour (sepal width between 2.5 cm and 3.0 cm): {probability_versicolour:.2f}\")"
   ]
  },
  {
   "cell_type": "markdown",
   "id": "e880d67f",
   "metadata": {},
   "source": [
    "<div class='alert alert-block alert-warning' style=\"font-size: 15pt; font-family: cursive; color: #08415C\"> \n",
    "    <b> <center>For each class, calculate the 10th and 90th percentiles of petal length. What do these percentiles reveal about the range of petal lengths in each class?\n",
    "</center></b>\n",
    "</div>"
   ]
  },
  {
   "cell_type": "code",
   "execution_count": 23,
   "id": "4199fc10",
   "metadata": {},
   "outputs": [
    {
     "name": "stdout",
     "output_type": "stream",
     "text": [
      "10th and 90th percentiles of petal length for each class:\n",
      "                  0.1   0.9\n",
      "class                      \n",
      "Iris-setosa      1.30  1.70\n",
      "Iris-versicolor  3.59  4.80\n",
      "Iris-virginica   4.90  6.31\n"
     ]
    }
   ],
   "source": [
    "percentiles_by_class = df.groupby('class')['petal length'].quantile([0.1, 0.9]).unstack()\n",
    "\n",
    "print(\"10th and 90th percentiles of petal length for each class:\")\n",
    "print(percentiles_by_class)"
   ]
  },
  {
   "cell_type": "markdown",
   "id": "8a7b4dd8",
   "metadata": {},
   "source": [
    "For Iris-setosa, the 10th percentile is 1.3, indicating that 10% of Iris-setosa flowers have a petal length of 1.3 or less. The 90th percentile is 1.5, suggesting that 90% of Iris-setosa flowers have a petal length of 1.5 or less.\n",
    "\n",
    "These percentiles provide a summary of the distribution of petal lengths within each class, revealing the range of petal lengths that capture a specified percentage of the data."
   ]
  },
  {
   "cell_type": "markdown",
   "id": "68da4008",
   "metadata": {},
   "source": [
    "Для Iris-setosa 10-й процентиль равен 1,3, что указывает на то, что 10% цветков Iris-setosa имеют длину лепестка 1,3 или меньше. 90-й процентиль равен 1,5, что говорит о том, что 90% цветков ириса-сетозы имеют длину лепестка 1,5 или меньше.\n",
    "\n",
    "Эти процентили дают сводную информацию о распределении длин лепестков внутри каждого класса, раскрывая диапазон длин лепестков, которые охватывают определенный процент данных."
   ]
  },
  {
   "cell_type": "markdown",
   "id": "768c01ce",
   "metadata": {},
   "source": [
    "<div class='alert alert-block alert-warning' style=\"font-size: 15pt; font-family: cursive; color: #08415C\"> \n",
    "    <b><center>Investigate the relationship between sepal length and sepal width by calculating the correlation coefficient for each class. Do the classes show different correlations between these two attributes?\n",
    "</center></b>\n",
    "</div>"
   ]
  },
  {
   "cell_type": "code",
   "execution_count": 24,
   "id": "3a63f0dd",
   "metadata": {},
   "outputs": [
    {
     "name": "stdout",
     "output_type": "stream",
     "text": [
      "Correlation coefficient between sepal length and sepal width for each class:\n",
      "class\n",
      "Iris-setosa        0.746780\n",
      "Iris-versicolor    0.525911\n",
      "Iris-virginica     0.457228\n",
      "dtype: float64\n"
     ]
    }
   ],
   "source": [
    "correlation_by_class = df.groupby('class').apply(lambda x: x['sepal length'].corr(x['sepal width']))\n",
    "\n",
    "# Display the results\n",
    "print(\"Correlation coefficient between sepal length and sepal width for each class:\")\n",
    "print(correlation_by_class)"
   ]
  },
  {
   "cell_type": "markdown",
   "id": "f0c89c24",
   "metadata": {},
   "source": [
    "These correlation coefficients indicate the strength and direction of the linear relationship between sepal length and sepal width for each class. A positive correlation indicates a positive linear relationship, while a negative correlation indicates a negative linear relationship. The magnitude of the correlation coefficient reflects the strength of the relationship, with values closer to 1 or -1 indicating a stronger linear association."
   ]
  }
 ],
 "metadata": {
  "kernelspec": {
   "display_name": "Python 3 (ipykernel)",
   "language": "python",
   "name": "python3"
  },
  "language_info": {
   "codemirror_mode": {
    "name": "ipython",
    "version": 3
   },
   "file_extension": ".py",
   "mimetype": "text/x-python",
   "name": "python",
   "nbconvert_exporter": "python",
   "pygments_lexer": "ipython3",
   "version": "3.11.4"
  }
 },
 "nbformat": 4,
 "nbformat_minor": 5
}
